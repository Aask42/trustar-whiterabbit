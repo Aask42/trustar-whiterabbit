{
 "cells": [
  {
   "cell_type": "code",
   "execution_count": null,
   "metadata": {
    "collapsed": true
   },
   "outputs": [],
   "source": [
    "import blocksci\n",
    "import matplotlib.pyplot as plt\n",
    "import pandas as pd\n",
    "%matplotlib notebook"
   ]
  },
  {
   "cell_type": "code",
   "execution_count": null,
   "metadata": {},
   "outputs": [],
   "source": [
    "# Some utility functions \n",
    "def get_balances(cluster=None, heights=None):\n",
    "    \"\"\"\n",
    "    Method to compute the balances of a cluster for a given list of block heights.\n",
    "    \"\"\"\n",
    "    return [(int(height), cluster.balance(int(height))) for height in heights]\n",
    "\n",
    "\n",
    "def get_lifetime(address):\n",
    "    \"\"\"\n",
    "    Method to get the lifetime of a Bitcoin Address which is the difference between the last \n",
    "    time the address released a payment and the first time it received a payment. Returns a tuple\n",
    "    containing the address value, the first / last block time, first / last block height, and the \n",
    "    lifetime.\n",
    "    \"\"\"\n",
    "    address_value = address.address_string\n",
    "    first_block_time = address.first_tx.block_time\n",
    "    first_block_height = address.first_tx.block_height\n",
    "    try:\n",
    "        last_time_block = address.out_txes()[-1].block_time\n",
    "    except:\n",
    "        last_time_block = None\n",
    "    try:\n",
    "        last_block_height = address.out_txes()[-1].block_height\n",
    "    except:\n",
    "        last_block_height = None\n",
    "    try:\n",
    "        life_time = address.out_txes()[-1].block_time - address.first_tx.block_time\n",
    "    except:\n",
    "        life_time = None\n",
    "    return (address_value,\n",
    "            first_block_time,\n",
    "            first_block_height,\n",
    "            last_time_block,\n",
    "            last_block_height,\n",
    "            life_time)\n",
    "\n",
    "\n",
    "def get_lifetimes(addresses):\n",
    "    \"\"\"\n",
    "    Method returning a list of tuples containing the lifetime given a list of Bitcoin Addresses. \n",
    "    \"\"\"\n",
    "    return [get_lifetime(address) for address in addresses]\n",
    "\n",
    "\n",
    "def get_payments_df(txes):\n",
    "    \"\"\"\n",
    "    Method to compute the amount of received or spent payments in dollars given a list of \n",
    "    input or output transactions. It returns a DataFrame indexed by time with payments in \n",
    "    USD and the block height as columns. \n",
    "    \"\"\"\n",
    "    payments = [(tx.block_height, tx.input_value) for tx in txes]\n",
    "    df = pd.DataFrame(payments, columns=[\"height\", \"payment\"])\n",
    "    return get_dollars_df(df, \"payment\")\n",
    "\n",
    "\n",
    "def get_dollars_df(df=None, column_name=None):\n",
    "    df.index = df[\"height\"]\n",
    "    converter = blocksci.CurrencyConverter()\n",
    "    df = chain.heights_to_dates(df)\n",
    "    df[\"usd\"] = df.apply(lambda x: converter.satoshi_to_currency(x[column_name], chain[x[\"height\"]].time), axis=1)\n",
    "    df.index.name = \"date\"\n",
    "    return df\n",
    "\n",
    "\n",
    "def is_it_in_cluster(cluster=None, seed=None):\n",
    "    \"\"\"\n",
    "    Method to get the size of a cluster. \n",
    "    \"\"\"\n",
    "    addresses = [address for address in cluster.addresses]\n",
    "    return seed in addresses\n",
    "\n",
    "\n",
    "def get_size(cluster=None, limit=10000):\n",
    "    \"\"\"\n",
    "    Method to get the size of a cluster. This method does not count the number of addresses above \n",
    "    a certain limit (default: 10000).\n",
    "    \"\"\"    \n",
    "    addresses = []\n",
    "    iteration = 0\n",
    "    for address in cluster.addresses:\n",
    "        if iteration < limit:\n",
    "            addresses.append(address)\n",
    "            iteration += 1\n",
    "        else:\n",
    "            print(\"Too many addresses!\")\n",
    "            break\n",
    "    return len(addresses)"
   ]
  },
  {
   "cell_type": "code",
   "execution_count": null,
   "metadata": {},
   "outputs": [],
   "source": [
    "# parser_data_directory should be set to the data-directory which the blocksci_parser output\n",
    "chain = blocksci.Blockchain(\"/home/ubuntu/bitcoin\")"
   ]
  },
  {
   "cell_type": "code",
   "execution_count": null,
   "metadata": {},
   "outputs": [],
   "source": [
    "# current workaround to disable change address heuristic \n",
    "# (https://citp.github.io/BlockSci/reference/heuristics/change.html)\n",
    "no_change_heuristic = blocksci.heuristics.change.legacy() - blocksci.heuristics.change.legacy() "
   ]
  },
  {
   "cell_type": "code",
   "execution_count": null,
   "metadata": {},
   "outputs": [],
   "source": [
    "# use the ClusterManager to cluster the blockchain using ONLY multi-input\n",
    "cm_no_change = blocksci.cluster.ClusterManager.create_clustering(\"/home/ubuntu/bitcoin/clusters/nochange\", chain, no_change_heuristic, True)"
   ]
  },
  {
   "cell_type": "code",
   "execution_count": null,
   "metadata": {},
   "outputs": [],
   "source": [
    "# Seed Addresses\n",
    "cryptolocker = [\"18iEz617DoDp8CNQUyyrjCcC7XCGDf5SVb\", \"1KP72fBmh3XBRfuJDMn53APaqM6iMRspCh\"]"
   ]
  },
  {
   "cell_type": "code",
   "execution_count": null,
   "metadata": {},
   "outputs": [],
   "source": [
    "# Check latest balance and number of addresses\n",
    "address_1 = chain.address_from_string(cryptolocker[0])\n",
    "# Get the cluster containing that address\n",
    "cluster_no_change = cm_no_change.cluster_with_address(address_1)\n",
    "n_addreses = get_size(cluster_no_change)\n",
    "print(n_addreses, address_1)       "
   ]
  },
  {
   "cell_type": "code",
   "execution_count": null,
   "metadata": {},
   "outputs": [],
   "source": [
    "# Get input payments into the cluster\n",
    "payments = cluster_no_change.txes()"
   ]
  },
  {
   "cell_type": "code",
   "execution_count": null,
   "metadata": {},
   "outputs": [],
   "source": [
    "# Construct a DataFrame of payments in USD \n",
    "df_payments = get_payments_df(payments)"
   ]
  },
  {
   "cell_type": "code",
   "execution_count": null,
   "metadata": {},
   "outputs": [],
   "source": [
    "# Sum up all the payments to get the volume of transactions\n",
    "df_payments[\"usd\"].sum()"
   ]
  },
  {
   "cell_type": "code",
   "execution_count": null,
   "metadata": {},
   "outputs": [],
   "source": [
    "# Get the list of block heights at which these payments were made\n",
    "heights = df_payments.sort_values(by=\"height\")[\"height\"].values"
   ]
  },
  {
   "cell_type": "code",
   "execution_count": null,
   "metadata": {},
   "outputs": [],
   "source": [
    "# Compute the balances for the given list of block heights\n",
    "balances = get_balances(cluster=cluster_no_change, heights=heights)"
   ]
  },
  {
   "cell_type": "code",
   "execution_count": null,
   "metadata": {},
   "outputs": [],
   "source": [
    "# Get the balance in dollars\n",
    "df = pd.DataFrame(balances, columns=[\"height\", \"balance\"])\n",
    "df = get_dollars_df(df, \"balance\")"
   ]
  },
  {
   "cell_type": "code",
   "execution_count": null,
   "metadata": {},
   "outputs": [],
   "source": [
    "# df.to_csv(\"/home/ubuntu/cluster-data/cryptolocker_balance_cluster_0.csv\")"
   ]
  },
  {
   "cell_type": "code",
   "execution_count": null,
   "metadata": {},
   "outputs": [],
   "source": [
    "df[\"usd\"].plot()\n",
    "plt.xlabel('Date')\n",
    "plt.ylabel('Balance in US Dollars');"
   ]
  }
 ],
 "metadata": {
  "kernelspec": {
   "display_name": "Python 2",
   "language": "python",
   "name": "python2"
  },
  "language_info": {
   "codemirror_mode": {
    "name": "ipython",
    "version": 2
   },
   "file_extension": ".py",
   "mimetype": "text/x-python",
   "name": "python",
   "nbconvert_exporter": "python",
   "pygments_lexer": "ipython2",
   "version": "2.7.6"
  }
 },
 "nbformat": 4,
 "nbformat_minor": 0
}
